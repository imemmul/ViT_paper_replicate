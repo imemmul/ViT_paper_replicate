{
 "cells": [
  {
   "cell_type": "code",
   "execution_count": 1,
   "metadata": {},
   "outputs": [
    {
     "name": "stderr",
     "output_type": "stream",
     "text": [
      "/home/emir/miniconda3/envs/mlptorch/lib/python3.10/site-packages/tqdm/auto.py:22: TqdmWarning: IProgress not found. Please update jupyter and ipywidgets. See https://ipywidgets.readthedocs.io/en/stable/user_install.html\n",
      "  from .autonotebook import tqdm as notebook_tqdm\n"
     ]
    }
   ],
   "source": [
    "import torch\n",
    "import torch.nn as nn\n",
    "import numpy as np\n",
    "import matplotlib.pyplot as plt\n",
    "from torchinfo import summary\n",
    "import torchvision\n",
    "from torchvision import transforms\n",
    "from prepare_data import create_dataloaders"
   ]
  },
  {
   "cell_type": "code",
   "execution_count": 2,
   "metadata": {},
   "outputs": [],
   "source": [
    "dataset_dir = \"../datasets/\"\n",
    "\n",
    "transform_tensor = transforms.Compose([\n",
    "    transforms.ToTensor(),\n",
    "    transforms.Resize([224])\n",
    "])\n",
    "\n",
    "\n",
    "train_data = torchvision.datasets.CIFAR10(root=dataset_dir,\n",
    "                                         download=False,\n",
    "                                         train=True,\n",
    "                                         transform=transform_tensor)\n",
    "test_data = torchvision.datasets.CIFAR10(root=dataset_dir,\n",
    "                                        download=False,\n",
    "                                        train=False,\n",
    "                                        transform=transform_tensor)"
   ]
  },
  {
   "cell_type": "code",
   "execution_count": 3,
   "metadata": {},
   "outputs": [
    {
     "data": {
      "text/plain": [
       "'cuda'"
      ]
     },
     "execution_count": 3,
     "metadata": {},
     "output_type": "execute_result"
    }
   ],
   "source": [
    "device = 'cuda' if torch.cuda.is_available() else 'cpu'\n",
    "device"
   ]
  },
  {
   "cell_type": "code",
   "execution_count": 4,
   "metadata": {},
   "outputs": [
    {
     "name": "stderr",
     "output_type": "stream",
     "text": [
      "/home/emir/miniconda3/envs/mlptorch/lib/python3.10/site-packages/torchvision/models/_utils.py:135: UserWarning: Using 'weights' as positional parameter(s) is deprecated since 0.13 and may be removed in the future. Please use keyword parameter(s) instead.\n",
      "  warnings.warn(\n"
     ]
    }
   ],
   "source": [
    "vit_l_16_model_weigths = torchvision.models.ViT_L_16_Weights.DEFAULT\n",
    "\n",
    "vit_l_16_model = torchvision.models.vit_l_16(vit_l_16_model_weigths).to(device)"
   ]
  },
  {
   "cell_type": "code",
   "execution_count": 5,
   "metadata": {},
   "outputs": [
    {
     "data": {
      "text/plain": [
       "============================================================================================================================================\n",
       "Layer (type (var_name))                                      Input Shape          Output Shape         Param #              Trainable\n",
       "============================================================================================================================================\n",
       "VisionTransformer (VisionTransformer)                        [32, 3, 224, 224]    [32, 1000]           1,024                True\n",
       "├─Conv2d (conv_proj)                                         [32, 3, 224, 224]    [32, 1024, 14, 14]   787,456              True\n",
       "├─Encoder (encoder)                                          [32, 197, 1024]      [32, 197, 1024]      201,728              True\n",
       "│    └─Dropout (dropout)                                     [32, 197, 1024]      [32, 197, 1024]      --                   --\n",
       "│    └─Sequential (layers)                                   [32, 197, 1024]      [32, 197, 1024]      --                   True\n",
       "│    │    └─EncoderBlock (encoder_layer_0)                   [32, 197, 1024]      [32, 197, 1024]      12,596,224           True\n",
       "│    │    └─EncoderBlock (encoder_layer_1)                   [32, 197, 1024]      [32, 197, 1024]      12,596,224           True\n",
       "│    │    └─EncoderBlock (encoder_layer_2)                   [32, 197, 1024]      [32, 197, 1024]      12,596,224           True\n",
       "│    │    └─EncoderBlock (encoder_layer_3)                   [32, 197, 1024]      [32, 197, 1024]      12,596,224           True\n",
       "│    │    └─EncoderBlock (encoder_layer_4)                   [32, 197, 1024]      [32, 197, 1024]      12,596,224           True\n",
       "│    │    └─EncoderBlock (encoder_layer_5)                   [32, 197, 1024]      [32, 197, 1024]      12,596,224           True\n",
       "│    │    └─EncoderBlock (encoder_layer_6)                   [32, 197, 1024]      [32, 197, 1024]      12,596,224           True\n",
       "│    │    └─EncoderBlock (encoder_layer_7)                   [32, 197, 1024]      [32, 197, 1024]      12,596,224           True\n",
       "│    │    └─EncoderBlock (encoder_layer_8)                   [32, 197, 1024]      [32, 197, 1024]      12,596,224           True\n",
       "│    │    └─EncoderBlock (encoder_layer_9)                   [32, 197, 1024]      [32, 197, 1024]      12,596,224           True\n",
       "│    │    └─EncoderBlock (encoder_layer_10)                  [32, 197, 1024]      [32, 197, 1024]      12,596,224           True\n",
       "│    │    └─EncoderBlock (encoder_layer_11)                  [32, 197, 1024]      [32, 197, 1024]      12,596,224           True\n",
       "│    │    └─EncoderBlock (encoder_layer_12)                  [32, 197, 1024]      [32, 197, 1024]      12,596,224           True\n",
       "│    │    └─EncoderBlock (encoder_layer_13)                  [32, 197, 1024]      [32, 197, 1024]      12,596,224           True\n",
       "│    │    └─EncoderBlock (encoder_layer_14)                  [32, 197, 1024]      [32, 197, 1024]      12,596,224           True\n",
       "│    │    └─EncoderBlock (encoder_layer_15)                  [32, 197, 1024]      [32, 197, 1024]      12,596,224           True\n",
       "│    │    └─EncoderBlock (encoder_layer_16)                  [32, 197, 1024]      [32, 197, 1024]      12,596,224           True\n",
       "│    │    └─EncoderBlock (encoder_layer_17)                  [32, 197, 1024]      [32, 197, 1024]      12,596,224           True\n",
       "│    │    └─EncoderBlock (encoder_layer_18)                  [32, 197, 1024]      [32, 197, 1024]      12,596,224           True\n",
       "│    │    └─EncoderBlock (encoder_layer_19)                  [32, 197, 1024]      [32, 197, 1024]      12,596,224           True\n",
       "│    │    └─EncoderBlock (encoder_layer_20)                  [32, 197, 1024]      [32, 197, 1024]      12,596,224           True\n",
       "│    │    └─EncoderBlock (encoder_layer_21)                  [32, 197, 1024]      [32, 197, 1024]      12,596,224           True\n",
       "│    │    └─EncoderBlock (encoder_layer_22)                  [32, 197, 1024]      [32, 197, 1024]      12,596,224           True\n",
       "│    │    └─EncoderBlock (encoder_layer_23)                  [32, 197, 1024]      [32, 197, 1024]      12,596,224           True\n",
       "│    └─LayerNorm (ln)                                        [32, 197, 1024]      [32, 197, 1024]      2,048                True\n",
       "├─Sequential (heads)                                         [32, 1024]           [32, 1000]           --                   True\n",
       "│    └─Linear (head)                                         [32, 1024]           [32, 1000]           1,025,000            True\n",
       "============================================================================================================================================\n",
       "Total params: 304,326,632\n",
       "Trainable params: 304,326,632\n",
       "Non-trainable params: 0\n",
       "Total mult-adds (G): 11.42\n",
       "============================================================================================================================================\n",
       "Input size (MB): 19.27\n",
       "Forward/backward pass size (MB): 8779.20\n",
       "Params size (MB): 813.45\n",
       "Estimated Total Size (MB): 9611.91\n",
       "============================================================================================================================================"
      ]
     },
     "execution_count": 5,
     "metadata": {},
     "output_type": "execute_result"
    }
   ],
   "source": [
    "summary(model=vit_l_16_model, \n",
    "        input_size=(32, 3, 224, 224), # (batch_size, color_channels, height, width)\n",
    "        # col_names=[\"input_size\"], # uncomment for smaller output\n",
    "        col_names=[\"input_size\", \"output_size\", \"num_params\", \"trainable\"],\n",
    "        col_width=20,\n",
    "        row_settings=[\"var_names\"]\n",
    ")"
   ]
  },
  {
   "cell_type": "code",
   "execution_count": 6,
   "metadata": {},
   "outputs": [],
   "source": [
    "dataloader_transforms = vit_l_16_model_weigths.transforms"
   ]
  },
  {
   "cell_type": "code",
   "execution_count": 7,
   "metadata": {},
   "outputs": [
    {
     "name": "stdout",
     "output_type": "stream",
     "text": [
      "functools.partial(<class 'torchvision.transforms._presets.ImageClassification'>, crop_size=224, resize_size=242)\n"
     ]
    }
   ],
   "source": [
    "print(dataloader_transforms)"
   ]
  },
  {
   "cell_type": "code",
   "execution_count": 8,
   "metadata": {},
   "outputs": [],
   "source": [
    "train_dataloader, test_dataloader, class_names = create_dataloaders(train_data=train_data,\n",
    "                                                                    test_data=test_data,\n",
    "                                                                    transform=dataloader_transforms,\n",
    "                                                                    data_folder_imported=True,\n",
    "                                                                    batch_size=32)"
   ]
  },
  {
   "cell_type": "code",
   "execution_count": 9,
   "metadata": {},
   "outputs": [],
   "source": [
    "image, label = next(iter(train_dataloader))"
   ]
  },
  {
   "cell_type": "code",
   "execution_count": 10,
   "metadata": {},
   "outputs": [
    {
     "data": {
      "text/plain": [
       "torch.Size([32, 3, 224, 224])"
      ]
     },
     "execution_count": 10,
     "metadata": {},
     "output_type": "execute_result"
    }
   ],
   "source": [
    "image.shape"
   ]
  },
  {
   "cell_type": "code",
   "execution_count": 11,
   "metadata": {},
   "outputs": [
    {
     "name": "stdout",
     "output_type": "stream",
     "text": [
      "False\n",
      "False\n",
      "False\n",
      "False\n",
      "False\n",
      "False\n",
      "False\n",
      "False\n",
      "False\n",
      "False\n",
      "False\n",
      "False\n",
      "False\n",
      "False\n",
      "False\n",
      "False\n",
      "False\n",
      "False\n",
      "False\n",
      "False\n",
      "False\n",
      "False\n",
      "False\n",
      "False\n",
      "False\n",
      "False\n",
      "False\n",
      "False\n",
      "False\n",
      "False\n",
      "False\n",
      "False\n",
      "False\n",
      "False\n",
      "False\n",
      "False\n",
      "False\n",
      "False\n",
      "False\n",
      "False\n",
      "False\n",
      "False\n",
      "False\n",
      "False\n",
      "False\n",
      "False\n",
      "False\n",
      "False\n",
      "False\n",
      "False\n",
      "False\n",
      "False\n",
      "False\n",
      "False\n",
      "False\n",
      "False\n",
      "False\n",
      "False\n",
      "False\n",
      "False\n",
      "False\n",
      "False\n",
      "False\n",
      "False\n",
      "False\n",
      "False\n",
      "False\n",
      "False\n",
      "False\n",
      "False\n",
      "False\n",
      "False\n",
      "False\n",
      "False\n",
      "False\n",
      "False\n",
      "False\n",
      "False\n",
      "False\n",
      "False\n",
      "False\n",
      "False\n",
      "False\n",
      "False\n",
      "False\n",
      "False\n",
      "False\n",
      "False\n",
      "False\n",
      "False\n",
      "False\n",
      "False\n",
      "False\n",
      "False\n",
      "False\n",
      "False\n",
      "False\n",
      "False\n",
      "False\n",
      "False\n",
      "False\n",
      "False\n",
      "False\n",
      "False\n",
      "False\n",
      "False\n",
      "False\n",
      "False\n",
      "False\n",
      "False\n",
      "False\n",
      "False\n",
      "False\n",
      "False\n",
      "False\n",
      "False\n",
      "False\n",
      "False\n",
      "False\n",
      "False\n",
      "False\n",
      "False\n",
      "False\n",
      "False\n",
      "False\n",
      "False\n",
      "False\n",
      "False\n",
      "False\n",
      "False\n",
      "False\n",
      "False\n",
      "False\n",
      "False\n",
      "False\n",
      "False\n",
      "False\n",
      "False\n",
      "False\n",
      "False\n",
      "False\n",
      "False\n",
      "False\n",
      "False\n",
      "False\n",
      "False\n",
      "False\n",
      "False\n",
      "False\n",
      "False\n",
      "False\n",
      "False\n",
      "False\n",
      "False\n",
      "False\n",
      "False\n",
      "False\n",
      "False\n",
      "False\n",
      "False\n",
      "False\n",
      "False\n",
      "False\n",
      "False\n",
      "False\n",
      "False\n",
      "False\n",
      "False\n",
      "False\n",
      "False\n",
      "False\n",
      "False\n",
      "False\n",
      "False\n",
      "False\n",
      "False\n",
      "False\n",
      "False\n",
      "False\n",
      "False\n",
      "False\n",
      "False\n",
      "False\n",
      "False\n",
      "False\n",
      "False\n",
      "False\n",
      "False\n",
      "False\n",
      "False\n",
      "False\n",
      "False\n",
      "False\n",
      "False\n",
      "False\n",
      "False\n",
      "False\n",
      "False\n",
      "False\n",
      "False\n",
      "False\n",
      "False\n",
      "False\n",
      "False\n",
      "False\n",
      "False\n",
      "False\n",
      "False\n",
      "False\n",
      "False\n",
      "False\n",
      "False\n",
      "False\n",
      "False\n",
      "False\n",
      "False\n",
      "False\n",
      "False\n",
      "False\n",
      "False\n",
      "False\n",
      "False\n",
      "False\n",
      "False\n",
      "False\n",
      "False\n",
      "False\n",
      "False\n",
      "False\n",
      "False\n",
      "False\n",
      "False\n",
      "False\n",
      "False\n",
      "False\n",
      "False\n",
      "False\n",
      "False\n",
      "False\n",
      "False\n",
      "False\n",
      "False\n",
      "False\n",
      "False\n",
      "False\n",
      "False\n",
      "False\n",
      "False\n",
      "False\n",
      "False\n",
      "False\n",
      "False\n",
      "False\n",
      "False\n",
      "False\n",
      "False\n",
      "False\n",
      "False\n",
      "False\n",
      "False\n",
      "False\n",
      "False\n",
      "False\n",
      "False\n",
      "False\n",
      "False\n",
      "False\n",
      "False\n",
      "False\n",
      "False\n",
      "False\n",
      "False\n",
      "False\n",
      "False\n",
      "False\n",
      "False\n",
      "False\n",
      "False\n",
      "False\n",
      "False\n",
      "False\n",
      "False\n",
      "False\n",
      "False\n",
      "False\n",
      "False\n",
      "False\n",
      "False\n",
      "False\n",
      "False\n",
      "False\n",
      "False\n",
      "False\n",
      "False\n",
      "False\n",
      "False\n"
     ]
    }
   ],
   "source": [
    "for param in vit_l_16_model.parameters():\n",
    "    param.requires_grad = False\n",
    "    print(param.requires_grad)"
   ]
  },
  {
   "cell_type": "code",
   "execution_count": 12,
   "metadata": {},
   "outputs": [],
   "source": [
    "vit_l_16_model.heads.requires_grad_ = True # unfreezing classifier\n",
    "\n",
    "vit_l_16_model.heads = nn.Linear(in_features=1024, out_features=len(class_names), device=device)"
   ]
  },
  {
   "cell_type": "code",
   "execution_count": 13,
   "metadata": {},
   "outputs": [
    {
     "data": {
      "text/plain": [
       "============================================================================================================================================\n",
       "Layer (type (var_name))                                      Input Shape          Output Shape         Param #              Trainable\n",
       "============================================================================================================================================\n",
       "VisionTransformer (VisionTransformer)                        [32, 3, 224, 224]    [32, 10]             1,024                Partial\n",
       "├─Conv2d (conv_proj)                                         [32, 3, 224, 224]    [32, 1024, 14, 14]   (787,456)            False\n",
       "├─Encoder (encoder)                                          [32, 197, 1024]      [32, 197, 1024]      201,728              False\n",
       "│    └─Dropout (dropout)                                     [32, 197, 1024]      [32, 197, 1024]      --                   --\n",
       "│    └─Sequential (layers)                                   [32, 197, 1024]      [32, 197, 1024]      --                   False\n",
       "│    │    └─EncoderBlock (encoder_layer_0)                   [32, 197, 1024]      [32, 197, 1024]      (12,596,224)         False\n",
       "│    │    └─EncoderBlock (encoder_layer_1)                   [32, 197, 1024]      [32, 197, 1024]      (12,596,224)         False\n",
       "│    │    └─EncoderBlock (encoder_layer_2)                   [32, 197, 1024]      [32, 197, 1024]      (12,596,224)         False\n",
       "│    │    └─EncoderBlock (encoder_layer_3)                   [32, 197, 1024]      [32, 197, 1024]      (12,596,224)         False\n",
       "│    │    └─EncoderBlock (encoder_layer_4)                   [32, 197, 1024]      [32, 197, 1024]      (12,596,224)         False\n",
       "│    │    └─EncoderBlock (encoder_layer_5)                   [32, 197, 1024]      [32, 197, 1024]      (12,596,224)         False\n",
       "│    │    └─EncoderBlock (encoder_layer_6)                   [32, 197, 1024]      [32, 197, 1024]      (12,596,224)         False\n",
       "│    │    └─EncoderBlock (encoder_layer_7)                   [32, 197, 1024]      [32, 197, 1024]      (12,596,224)         False\n",
       "│    │    └─EncoderBlock (encoder_layer_8)                   [32, 197, 1024]      [32, 197, 1024]      (12,596,224)         False\n",
       "│    │    └─EncoderBlock (encoder_layer_9)                   [32, 197, 1024]      [32, 197, 1024]      (12,596,224)         False\n",
       "│    │    └─EncoderBlock (encoder_layer_10)                  [32, 197, 1024]      [32, 197, 1024]      (12,596,224)         False\n",
       "│    │    └─EncoderBlock (encoder_layer_11)                  [32, 197, 1024]      [32, 197, 1024]      (12,596,224)         False\n",
       "│    │    └─EncoderBlock (encoder_layer_12)                  [32, 197, 1024]      [32, 197, 1024]      (12,596,224)         False\n",
       "│    │    └─EncoderBlock (encoder_layer_13)                  [32, 197, 1024]      [32, 197, 1024]      (12,596,224)         False\n",
       "│    │    └─EncoderBlock (encoder_layer_14)                  [32, 197, 1024]      [32, 197, 1024]      (12,596,224)         False\n",
       "│    │    └─EncoderBlock (encoder_layer_15)                  [32, 197, 1024]      [32, 197, 1024]      (12,596,224)         False\n",
       "│    │    └─EncoderBlock (encoder_layer_16)                  [32, 197, 1024]      [32, 197, 1024]      (12,596,224)         False\n",
       "│    │    └─EncoderBlock (encoder_layer_17)                  [32, 197, 1024]      [32, 197, 1024]      (12,596,224)         False\n",
       "│    │    └─EncoderBlock (encoder_layer_18)                  [32, 197, 1024]      [32, 197, 1024]      (12,596,224)         False\n",
       "│    │    └─EncoderBlock (encoder_layer_19)                  [32, 197, 1024]      [32, 197, 1024]      (12,596,224)         False\n",
       "│    │    └─EncoderBlock (encoder_layer_20)                  [32, 197, 1024]      [32, 197, 1024]      (12,596,224)         False\n",
       "│    │    └─EncoderBlock (encoder_layer_21)                  [32, 197, 1024]      [32, 197, 1024]      (12,596,224)         False\n",
       "│    │    └─EncoderBlock (encoder_layer_22)                  [32, 197, 1024]      [32, 197, 1024]      (12,596,224)         False\n",
       "│    │    └─EncoderBlock (encoder_layer_23)                  [32, 197, 1024]      [32, 197, 1024]      (12,596,224)         False\n",
       "│    └─LayerNorm (ln)                                        [32, 197, 1024]      [32, 197, 1024]      (2,048)              False\n",
       "├─Linear (heads)                                             [32, 1024]           [32, 10]             10,250               True\n",
       "============================================================================================================================================\n",
       "Total params: 303,311,882\n",
       "Trainable params: 10,250\n",
       "Non-trainable params: 303,301,632\n",
       "Total mult-adds (G): 11.39\n",
       "============================================================================================================================================\n",
       "Input size (MB): 19.27\n",
       "Forward/backward pass size (MB): 8778.94\n",
       "Params size (MB): 809.39\n",
       "Estimated Total Size (MB): 9607.60\n",
       "============================================================================================================================================"
      ]
     },
     "execution_count": 13,
     "metadata": {},
     "output_type": "execute_result"
    }
   ],
   "source": [
    "summary(model=vit_l_16_model, \n",
    "        input_size=(32, 3, 224, 224), # (batch_size, color_channels, height, width)\n",
    "        # col_names=[\"input_size\"], # uncomment for smaller output\n",
    "        col_names=[\"input_size\", \"output_size\", \"num_params\", \"trainable\"],\n",
    "        col_width=20,\n",
    "        row_settings=[\"var_names\"]\n",
    ")"
   ]
  },
  {
   "cell_type": "code",
   "execution_count": 14,
   "metadata": {},
   "outputs": [],
   "source": [
    "def manual_seed():\n",
    "    torch.cuda.manual_seed(1)\n",
    "    np.random.seed(1)"
   ]
  },
  {
   "cell_type": "code",
   "execution_count": 15,
   "metadata": {},
   "outputs": [
    {
     "data": {
      "text/plain": [
       "============================================================================================================================================\n",
       "Layer (type (var_name))                                      Input Shape          Output Shape         Param #              Trainable\n",
       "============================================================================================================================================\n",
       "VisionTransformer (VisionTransformer)                        [32, 3, 224, 224]    [32, 10]             1,024                Partial\n",
       "├─Conv2d (conv_proj)                                         [32, 3, 224, 224]    [32, 1024, 14, 14]   (787,456)            False\n",
       "├─Encoder (encoder)                                          [32, 197, 1024]      [32, 197, 1024]      201,728              False\n",
       "│    └─Dropout (dropout)                                     [32, 197, 1024]      [32, 197, 1024]      --                   --\n",
       "│    └─Sequential (layers)                                   [32, 197, 1024]      [32, 197, 1024]      --                   False\n",
       "│    │    └─EncoderBlock (encoder_layer_0)                   [32, 197, 1024]      [32, 197, 1024]      (12,596,224)         False\n",
       "│    │    └─EncoderBlock (encoder_layer_1)                   [32, 197, 1024]      [32, 197, 1024]      (12,596,224)         False\n",
       "│    │    └─EncoderBlock (encoder_layer_2)                   [32, 197, 1024]      [32, 197, 1024]      (12,596,224)         False\n",
       "│    │    └─EncoderBlock (encoder_layer_3)                   [32, 197, 1024]      [32, 197, 1024]      (12,596,224)         False\n",
       "│    │    └─EncoderBlock (encoder_layer_4)                   [32, 197, 1024]      [32, 197, 1024]      (12,596,224)         False\n",
       "│    │    └─EncoderBlock (encoder_layer_5)                   [32, 197, 1024]      [32, 197, 1024]      (12,596,224)         False\n",
       "│    │    └─EncoderBlock (encoder_layer_6)                   [32, 197, 1024]      [32, 197, 1024]      (12,596,224)         False\n",
       "│    │    └─EncoderBlock (encoder_layer_7)                   [32, 197, 1024]      [32, 197, 1024]      (12,596,224)         False\n",
       "│    │    └─EncoderBlock (encoder_layer_8)                   [32, 197, 1024]      [32, 197, 1024]      (12,596,224)         False\n",
       "│    │    └─EncoderBlock (encoder_layer_9)                   [32, 197, 1024]      [32, 197, 1024]      (12,596,224)         False\n",
       "│    │    └─EncoderBlock (encoder_layer_10)                  [32, 197, 1024]      [32, 197, 1024]      (12,596,224)         False\n",
       "│    │    └─EncoderBlock (encoder_layer_11)                  [32, 197, 1024]      [32, 197, 1024]      (12,596,224)         False\n",
       "│    │    └─EncoderBlock (encoder_layer_12)                  [32, 197, 1024]      [32, 197, 1024]      (12,596,224)         False\n",
       "│    │    └─EncoderBlock (encoder_layer_13)                  [32, 197, 1024]      [32, 197, 1024]      (12,596,224)         False\n",
       "│    │    └─EncoderBlock (encoder_layer_14)                  [32, 197, 1024]      [32, 197, 1024]      (12,596,224)         False\n",
       "│    │    └─EncoderBlock (encoder_layer_15)                  [32, 197, 1024]      [32, 197, 1024]      (12,596,224)         False\n",
       "│    │    └─EncoderBlock (encoder_layer_16)                  [32, 197, 1024]      [32, 197, 1024]      (12,596,224)         False\n",
       "│    │    └─EncoderBlock (encoder_layer_17)                  [32, 197, 1024]      [32, 197, 1024]      (12,596,224)         False\n",
       "│    │    └─EncoderBlock (encoder_layer_18)                  [32, 197, 1024]      [32, 197, 1024]      (12,596,224)         False\n",
       "│    │    └─EncoderBlock (encoder_layer_19)                  [32, 197, 1024]      [32, 197, 1024]      (12,596,224)         False\n",
       "│    │    └─EncoderBlock (encoder_layer_20)                  [32, 197, 1024]      [32, 197, 1024]      (12,596,224)         False\n",
       "│    │    └─EncoderBlock (encoder_layer_21)                  [32, 197, 1024]      [32, 197, 1024]      (12,596,224)         False\n",
       "│    │    └─EncoderBlock (encoder_layer_22)                  [32, 197, 1024]      [32, 197, 1024]      (12,596,224)         False\n",
       "│    │    └─EncoderBlock (encoder_layer_23)                  [32, 197, 1024]      [32, 197, 1024]      (12,596,224)         False\n",
       "│    └─LayerNorm (ln)                                        [32, 197, 1024]      [32, 197, 1024]      (2,048)              False\n",
       "├─Linear (heads)                                             [32, 1024]           [32, 10]             10,250               True\n",
       "============================================================================================================================================\n",
       "Total params: 303,311,882\n",
       "Trainable params: 10,250\n",
       "Non-trainable params: 303,301,632\n",
       "Total mult-adds (G): 11.39\n",
       "============================================================================================================================================\n",
       "Input size (MB): 19.27\n",
       "Forward/backward pass size (MB): 8778.94\n",
       "Params size (MB): 809.39\n",
       "Estimated Total Size (MB): 9607.60\n",
       "============================================================================================================================================"
      ]
     },
     "execution_count": 15,
     "metadata": {},
     "output_type": "execute_result"
    }
   ],
   "source": [
    "summary(model=vit_l_16_model, \n",
    "        input_size=(32, 3, 224, 224), # (batch_size, color_channels, height, width)\n",
    "        # col_names=[\"input_size\"], # uncomment for smaller output\n",
    "        col_names=[\"input_size\", \"output_size\", \"num_params\", \"trainable\"],\n",
    "        col_width=20,\n",
    "        row_settings=[\"var_names\"]\n",
    ")"
   ]
  },
  {
   "cell_type": "code",
   "execution_count": 16,
   "metadata": {},
   "outputs": [
    {
     "name": "stderr",
     "output_type": "stream",
     "text": [
      "  7%|▋         | 1/14 [13:41<2:57:58, 821.44s/it]"
     ]
    },
    {
     "name": "stdout",
     "output_type": "stream",
     "text": [
      "Epoch: 1 | train_loss: 0.3398 | train_acc: 0.9057 | test_loss: 0.2416 | test_acc: 0.9240\n"
     ]
    },
    {
     "name": "stderr",
     "output_type": "stream",
     "text": [
      " 14%|█▍        | 2/14 [25:17<2:29:30, 747.51s/it]"
     ]
    },
    {
     "name": "stdout",
     "output_type": "stream",
     "text": [
      "Epoch: 2 | train_loss: 0.2118 | train_acc: 0.9324 | test_loss: 0.2186 | test_acc: 0.9301\n"
     ]
    },
    {
     "name": "stderr",
     "output_type": "stream",
     "text": [
      " 21%|██▏       | 3/14 [36:53<2:12:46, 724.25s/it]"
     ]
    },
    {
     "name": "stdout",
     "output_type": "stream",
     "text": [
      "Epoch: 3 | train_loss: 0.1919 | train_acc: 0.9382 | test_loss: 0.2077 | test_acc: 0.9313\n"
     ]
    },
    {
     "name": "stderr",
     "output_type": "stream",
     "text": [
      " 29%|██▊       | 4/14 [48:30<1:58:55, 713.52s/it]"
     ]
    },
    {
     "name": "stdout",
     "output_type": "stream",
     "text": [
      "Epoch: 4 | train_loss: 0.1793 | train_acc: 0.9425 | test_loss: 0.2015 | test_acc: 0.9331\n"
     ]
    },
    {
     "name": "stderr",
     "output_type": "stream",
     "text": [
      " 36%|███▌      | 5/14 [1:00:08<1:46:09, 707.68s/it]"
     ]
    },
    {
     "name": "stdout",
     "output_type": "stream",
     "text": [
      "Epoch: 5 | train_loss: 0.1707 | train_acc: 0.9445 | test_loss: 0.1965 | test_acc: 0.9360\n"
     ]
    },
    {
     "name": "stderr",
     "output_type": "stream",
     "text": [
      " 43%|████▎     | 6/14 [1:11:45<1:33:52, 704.07s/it]"
     ]
    },
    {
     "name": "stdout",
     "output_type": "stream",
     "text": [
      "Epoch: 6 | train_loss: 0.1640 | train_acc: 0.9470 | test_loss: 0.1939 | test_acc: 0.9355\n"
     ]
    },
    {
     "name": "stderr",
     "output_type": "stream",
     "text": [
      " 50%|█████     | 7/14 [1:23:22<1:21:51, 701.70s/it]"
     ]
    },
    {
     "name": "stdout",
     "output_type": "stream",
     "text": [
      "Epoch: 7 | train_loss: 0.1583 | train_acc: 0.9487 | test_loss: 0.1906 | test_acc: 0.9366\n"
     ]
    },
    {
     "name": "stderr",
     "output_type": "stream",
     "text": [
      " 57%|█████▋    | 8/14 [1:34:58<1:10:00, 700.16s/it]"
     ]
    },
    {
     "name": "stdout",
     "output_type": "stream",
     "text": [
      "Epoch: 8 | train_loss: 0.1536 | train_acc: 0.9504 | test_loss: 0.1886 | test_acc: 0.9383\n"
     ]
    },
    {
     "name": "stderr",
     "output_type": "stream",
     "text": [
      " 64%|██████▍   | 9/14 [1:46:36<58:16, 699.27s/it]  "
     ]
    },
    {
     "name": "stdout",
     "output_type": "stream",
     "text": [
      "Epoch: 9 | train_loss: 0.1495 | train_acc: 0.9520 | test_loss: 0.1870 | test_acc: 0.9385\n"
     ]
    },
    {
     "name": "stderr",
     "output_type": "stream",
     "text": [
      " 71%|███████▏  | 10/14 [1:58:13<46:34, 698.52s/it]"
     ]
    },
    {
     "name": "stdout",
     "output_type": "stream",
     "text": [
      "Epoch: 10 | train_loss: 0.1461 | train_acc: 0.9528 | test_loss: 0.1853 | test_acc: 0.9392\n"
     ]
    },
    {
     "name": "stderr",
     "output_type": "stream",
     "text": [
      " 79%|███████▊  | 11/14 [2:09:50<34:54, 698.10s/it]"
     ]
    },
    {
     "name": "stdout",
     "output_type": "stream",
     "text": [
      "Epoch: 11 | train_loss: 0.1430 | train_acc: 0.9534 | test_loss: 0.1848 | test_acc: 0.9406\n"
     ]
    },
    {
     "name": "stderr",
     "output_type": "stream",
     "text": [
      " 86%|████████▌ | 12/14 [2:21:26<23:15, 697.58s/it]"
     ]
    },
    {
     "name": "stdout",
     "output_type": "stream",
     "text": [
      "Epoch: 12 | train_loss: 0.1404 | train_acc: 0.9545 | test_loss: 0.1829 | test_acc: 0.9401\n"
     ]
    },
    {
     "name": "stderr",
     "output_type": "stream",
     "text": [
      " 93%|█████████▎| 13/14 [2:33:01<11:36, 696.76s/it]"
     ]
    },
    {
     "name": "stdout",
     "output_type": "stream",
     "text": [
      "Epoch: 13 | train_loss: 0.1377 | train_acc: 0.9548 | test_loss: 0.1830 | test_acc: 0.9399\n"
     ]
    },
    {
     "name": "stderr",
     "output_type": "stream",
     "text": [
      "100%|██████████| 14/14 [2:44:36<00:00, 705.44s/it]"
     ]
    },
    {
     "name": "stdout",
     "output_type": "stream",
     "text": [
      "Epoch: 14 | train_loss: 0.1353 | train_acc: 0.9557 | test_loss: 0.1824 | test_acc: 0.9408\n"
     ]
    },
    {
     "name": "stderr",
     "output_type": "stream",
     "text": [
      "\n"
     ]
    }
   ],
   "source": [
    "loss_fn = nn.CrossEntropyLoss()\n",
    "optimizer = torch.optim.SGD(lr=0.001, params=vit_l_16_model.parameters(), momentum=0.9)\n",
    "manual_seed()\n",
    "from train_model import train\n",
    "vit_l_16_model_results = train(model=vit_l_16_model,\n",
    "                              train_dataloader=train_dataloader,\n",
    "                              test_dataloader=test_dataloader,\n",
    "                              optimizer=optimizer,\n",
    "                              loss_fn=loss_fn,\n",
    "                              device=device,\n",
    "                              epochs=14)"
   ]
  },
  {
   "cell_type": "code",
   "execution_count": null,
   "metadata": {},
   "outputs": [],
   "source": []
  }
 ],
 "metadata": {
  "kernelspec": {
   "display_name": "Python 3.10.6 ('mlptorch')",
   "language": "python",
   "name": "python3"
  },
  "language_info": {
   "codemirror_mode": {
    "name": "ipython",
    "version": 3
   },
   "file_extension": ".py",
   "mimetype": "text/x-python",
   "name": "python",
   "nbconvert_exporter": "python",
   "pygments_lexer": "ipython3",
   "version": "3.10.6"
  },
  "orig_nbformat": 4,
  "vscode": {
   "interpreter": {
    "hash": "6351ae7a8af7abb5b6e92ecd3cb8e4a903e7aa1ff53853f1ec32897af5c10b9a"
   }
  }
 },
 "nbformat": 4,
 "nbformat_minor": 2
}
